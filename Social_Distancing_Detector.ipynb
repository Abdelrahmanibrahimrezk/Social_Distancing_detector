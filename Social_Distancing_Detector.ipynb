{
 "cells": [
  {
   "cell_type": "markdown",
   "id": "d3138ac4",
   "metadata": {},
   "source": [
    "# Social Distancing Detector\n",
    "By: Abdelrahman Ibrahim Rizk Abdelrahim"
   ]
  },
  {
   "cell_type": "code",
   "execution_count": 12,
   "id": "ff9bacad",
   "metadata": {},
   "outputs": [
    {
     "name": "stdout",
     "output_type": "stream",
     "text": [
      "[INFO] loading YOLO from disk...\n",
      "[INFO] accessing video stream...\n"
     ]
    }
   ],
   "source": [
    "!python social_distance_detector.py --input pedestrians_Trim.mp4 --output output.avi --display 0"
   ]
  },
  {
   "cell_type": "code",
   "execution_count": null,
   "id": "aa67cb12",
   "metadata": {},
   "outputs": [],
   "source": []
  }
 ],
 "metadata": {
  "kernelspec": {
   "display_name": "Python 3 (ipykernel)",
   "language": "python",
   "name": "python3"
  },
  "language_info": {
   "codemirror_mode": {
    "name": "ipython",
    "version": 3
   },
   "file_extension": ".py",
   "mimetype": "text/x-python",
   "name": "python",
   "nbconvert_exporter": "python",
   "pygments_lexer": "ipython3",
   "version": "3.9.7"
  }
 },
 "nbformat": 4,
 "nbformat_minor": 5
}
